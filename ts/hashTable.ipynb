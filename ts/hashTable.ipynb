{
 "cells": [
  {
   "cell_type": "code",
   "execution_count": 49,
   "source": [
    "function hashStringToInt(s: string, tableSize: number) {\n",
    "  let hash = 17;\n",
    "\n",
    "  for (let i = 0; i < s.length; i++) {\n",
    "    hash = (13 * hash * s.charCodeAt(i)) % tableSize\n",
    "  }\n",
    "\n",
    "  return hash;\n",
    "}\n",
    "\n",
    "class HashTable {\n",
    "  table = new Array<[string, any][]>(3) // should be large prime number like 2003\n",
    "  numItems = 0\n",
    "\n",
    "  resize = () => {\n",
    "    const newTable = new Array<[string, any][]>(this.table.length * 2)\n",
    "    this.table.forEach(item => {\n",
    "      if (item) {\n",
    "        item.forEach(([key, value]) => {\n",
    "          const idx = hashStringToInt(key, newTable.length)\n",
    "          if (newTable[idx]) {\n",
    "            newTable[idx].push([key, value])\n",
    "          } else {\n",
    "            newTable[idx] = [[key, value]];\n",
    "          }\n",
    "        })\n",
    "      }\n",
    "    })\n",
    "    this.table = newTable\n",
    "  }\n",
    "\n",
    "  setItem = (key: string, value: any) => {\n",
    "    this.numItems++\n",
    "    const loadFactor = this.numItems / this.table.length\n",
    "    if (loadFactor > .8) {\n",
    "      console.log('Doing resize')\n",
    "      this.resize()\n",
    "    }\n",
    "\n",
    "    const idx = hashStringToInt(key, this.table.length)\n",
    "    if (this.table[idx]) {\n",
    "      this.table[idx].push([key, value])\n",
    "    } else {\n",
    "      this.table[idx] = [[key, value]];\n",
    "    }\n",
    "  }\n",
    "  \n",
    "  getItem = (key: string) => {\n",
    "    const idx = hashStringToInt(key, this.table.length)\n",
    "    if (!this.table[idx]) {\n",
    "      return null\n",
    "    }\n",
    "\n",
    "    return this.table[idx].find(x => x[0] === key)[1]\n",
    "  }\n",
    "}"
   ],
   "outputs": [],
   "metadata": {}
  },
  {
   "cell_type": "code",
   "execution_count": 50,
   "source": [
    "const myTable = new HashTable()\n",
    "\n",
    "myTable.setItem('name', 'Alex')\n",
    "console.log(myTable.table.length)\n",
    "myTable.setItem('lastName', 'Markin')\n",
    "myTable.setItem('color', 'purple')\n",
    "console.log(myTable.table.length)\n",
    "\n",
    "console.log(myTable.getItem('name'))\n",
    "console.log(myTable.getItem('lastName'))\n"
   ],
   "outputs": [
    {
     "output_type": "stream",
     "name": "stdout",
     "text": [
      "3\n",
      "Doing resize\n",
      "6\n",
      "Alex\n",
      "Markin\n"
     ]
    }
   ],
   "metadata": {}
  },
  {
   "cell_type": "code",
   "execution_count": null,
   "source": [],
   "outputs": [],
   "metadata": {}
  }
 ],
 "metadata": {
  "orig_nbformat": 4,
  "language_info": {
   "name": "python"
  }
 },
 "nbformat": 4,
 "nbformat_minor": 2
}