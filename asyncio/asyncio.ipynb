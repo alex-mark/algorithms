{
 "cells": [
  {
   "cell_type": "code",
   "execution_count": 8,
   "source": [
    "import asyncio"
   ],
   "outputs": [],
   "metadata": {}
  },
  {
   "cell_type": "code",
   "execution_count": 2,
   "source": [
    "async def main():\n",
    "    print(\"start main\")\n",
    "    task = asyncio.create_task(foo(\"hi from foo\"))\n",
    "    # await asyncio.sleep(2)\n",
    "    print(\"main finished\")\n",
    "\n",
    "async def foo(text: str):\n",
    "    print(text)\n",
    "    await asyncio.sleep(1)\n"
   ],
   "outputs": [],
   "metadata": {}
  },
  {
   "cell_type": "code",
   "execution_count": 3,
   "source": [
    "await main()"
   ],
   "outputs": [
    {
     "output_type": "stream",
     "name": "stdout",
     "text": [
      "start main\n",
      "main finished\n",
      "hi from foo\n"
     ]
    }
   ],
   "metadata": {}
  },
  {
   "cell_type": "code",
   "execution_count": 16,
   "source": [
    "async def fetch_data():\n",
    "    print(\"start fetching\")\n",
    "    await asyncio.sleep(2)\n",
    "    print(\"done fetching\")\n",
    "    return {\"data\": 1}\n",
    "\n",
    "\n",
    "async def print_numbers():\n",
    "    for i in range(10):\n",
    "        print(i)\n",
    "        await asyncio.sleep(0.25)\n",
    "\n",
    "\n",
    "async def test_fetching():\n",
    "    task1 = asyncio.create_task(fetch_data())\n",
    "    task2 = asyncio.create_task(print_numbers())\n",
    "\n",
    "    value = task1\n",
    "    print(value)\n"
   ],
   "outputs": [],
   "metadata": {}
  },
  {
   "cell_type": "code",
   "execution_count": 17,
   "source": [
    "await test_fetching()\n"
   ],
   "outputs": [
    {
     "output_type": "stream",
     "name": "stdout",
     "text": [
      "<Task pending name='Task-17' coro=<fetch_data() running at /var/folders/70/68f63kln4k7cwrwslq2yby280000gn/T/ipykernel_84073/3762996020.py:1>>\n",
      "start fetching\n",
      "0\n",
      "1\n",
      "2\n",
      "3\n",
      "4\n",
      "5\n",
      "6\n",
      "7\n",
      "done fetching\n",
      "8\n",
      "9\n"
     ]
    }
   ],
   "metadata": {}
  },
  {
   "cell_type": "code",
   "execution_count": null,
   "source": [],
   "outputs": [],
   "metadata": {}
  }
 ],
 "metadata": {
  "orig_nbformat": 4,
  "language_info": {
   "name": "python",
   "version": "3.9.6",
   "mimetype": "text/x-python",
   "codemirror_mode": {
    "name": "ipython",
    "version": 3
   },
   "pygments_lexer": "ipython3",
   "nbconvert_exporter": "python",
   "file_extension": ".py"
  },
  "kernelspec": {
   "name": "python3",
   "display_name": "Python 3.9.6 64-bit ('python@3.9')"
  },
  "interpreter": {
   "hash": "ac2eaa0ea0ebeafcc7822e65e46aa9d4f966f30b695406963e145ea4a91cd4fc"
  }
 },
 "nbformat": 4,
 "nbformat_minor": 2
}