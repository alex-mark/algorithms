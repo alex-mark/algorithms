{
 "cells": [
  {
   "cell_type": "code",
   "execution_count": 3,
   "source": [
    "import numpy as np"
   ],
   "outputs": [],
   "metadata": {}
  },
  {
   "cell_type": "markdown",
   "source": [
    "# Sorting Algorithms\n",
    "\n",
    "[https://www.bigocheatsheet.com/](https://www.bigocheatsheet.com/) "
   ],
   "metadata": {}
  },
  {
   "cell_type": "markdown",
   "source": [
    "## Bubble sort\n",
    "Worst $O(n^2)$, Average $\\Theta(n^2)$, Best $\\Omega(n^2)$"
   ],
   "metadata": {}
  },
  {
   "cell_type": "code",
   "execution_count": 14,
   "source": [
    "def bubble_sort(a):\n",
    "    for k in range(len(a)):\n",
    "        swapped = False\n",
    "        for i in range(len(a) - k - 1):\n",
    "            if a[i] > a[i+1]:\n",
    "                a[i], a[i+1] = a[i+1], a[i]\n",
    "                swapped = True\n",
    "        if not swapped:\n",
    "            break\n",
    "    return a"
   ],
   "outputs": [],
   "metadata": {
    "collapsed": true,
    "jupyter": {
     "outputs_hidden": true
    }
   }
  },
  {
   "cell_type": "markdown",
   "source": [
    "## Selection sort\n",
    "Worst $O(n^2)$, Average $\\Theta(n^2)$, Best $\\Omega(n^2)$"
   ],
   "metadata": {}
  },
  {
   "cell_type": "code",
   "execution_count": 5,
   "source": [
    "def selection_sort(a):\n",
    "    minimum = a[0]\n",
    "    for k in range(0, len(a)-1):\n",
    "        i_min = k\n",
    "        for i in range(k, len(a)):\n",
    "            if a[i] < a[i_min]:\n",
    "                i_min = i\n",
    "        if k != i_min:\n",
    "            a[k], a[i_min] = a[i_min], a[k]\n",
    "    return a"
   ],
   "outputs": [],
   "metadata": {
    "collapsed": true,
    "jupyter": {
     "outputs_hidden": true
    }
   }
  },
  {
   "cell_type": "markdown",
   "source": [
    "## Insertion sort\n",
    "Worst $O(n^2)$, Average $\\Theta(n^2)$, Best $\\Omega(n)$"
   ],
   "metadata": {}
  },
  {
   "cell_type": "code",
   "execution_count": 6,
   "source": [
    "def insertion_sort(a):\n",
    "    for i in range(1, len(a)):\n",
    "        j = i\n",
    "        while j > 0 and a[j] < a[j-1]:\n",
    "            a[j-1], a[j] = a[j], a[j-1]\n",
    "            j -=1\n",
    "    return a"
   ],
   "outputs": [],
   "metadata": {
    "collapsed": true,
    "jupyter": {
     "outputs_hidden": true
    }
   }
  },
  {
   "cell_type": "markdown",
   "source": [
    "## Merge sort\n",
    "Worst $O(nlog(n))$, Average $\\Theta(nlog(n))$, Best $\\Omega(nlog(n))$"
   ],
   "metadata": {}
  },
  {
   "cell_type": "code",
   "execution_count": 7,
   "source": [
    "def merge_sort(arr):\n",
    "    if len(arr) == 1:\n",
    "        return arr\n",
    "    p = len(arr) // 2\n",
    "    a = merge_sort(arr[:p])\n",
    "    b = merge_sort(arr[p:])\n",
    "    res = []\n",
    "    i = 0\n",
    "    j = 0\n",
    "    for _ in range(len(a) + len(b)):\n",
    "        if a[i] < b[j]:\n",
    "            res.append(a[i])\n",
    "            i += 1\n",
    "            if i == len(a):\n",
    "                return res + b[j:]\n",
    "        else:\n",
    "            res.append(b[j])\n",
    "            j += 1\n",
    "            if j == len(b):\n",
    "                return res + a[i:]\n",
    "    return res"
   ],
   "outputs": [],
   "metadata": {
    "collapsed": true,
    "jupyter": {
     "outputs_hidden": true
    }
   }
  },
  {
   "cell_type": "markdown",
   "source": [
    "## Heap sort\n",
    "Worst $O(n^2)$, Average $\\Theta(n^2)$, Best $\\Omega(n)$"
   ],
   "metadata": {}
  },
  {
   "cell_type": "code",
   "execution_count": 13,
   "source": [
    "def heap_sort(a):\n",
    "    pass"
   ],
   "outputs": [],
   "metadata": {}
  },
  {
   "cell_type": "markdown",
   "source": [
    "## Quick sort\n",
    "Worst $O(n^2)$, Average $\\Theta(nlog(n))$, Best $\\Omega(nlog(n))$"
   ],
   "metadata": {}
  },
  {
   "cell_type": "code",
   "execution_count": 42,
   "source": [
    "def quick_sort(A, low, high):\n",
    "    if low < high:\n",
    "        pivot_location = partition(A, low, high)\n",
    "        quick_sort(A, low, pivot_location - 1)\n",
    "        quick_sort(A, pivot_location + 1, high)\n",
    "        \n",
    "def partition(A, low, high):\n",
    "    pivot = A[high]\n",
    "    leftwall = low\n",
    "    \n",
    "    for i in range(low, high):\n",
    "        if A[i] <= pivot:\n",
    "            A[i], A[leftwall] = A[leftwall], A[i]\n",
    "            leftwall += 1\n",
    "            \n",
    "    A[high], A[leftwall] = A[leftwall], A[high]\n",
    "    return leftwall"
   ],
   "outputs": [],
   "metadata": {}
  },
  {
   "cell_type": "markdown",
   "source": [
    "# Test"
   ],
   "metadata": {}
  },
  {
   "cell_type": "code",
   "execution_count": 23,
   "source": [
    "new_arr = lambda: np.random.permutation(50).tolist()\n",
    "print(new_arr())"
   ],
   "outputs": [
    {
     "output_type": "stream",
     "name": "stdout",
     "text": [
      "[48, 37, 16, 0, 44, 12, 20, 17, 36, 30, 2, 31, 45, 47, 26, 18, 43, 46, 33, 35, 4, 25, 19, 13, 22, 42, 40, 6, 3, 7, 28, 1, 11, 27, 14, 24, 41, 32, 5, 9, 21, 8, 34, 39, 23, 49, 38, 29, 10, 15]\n"
     ]
    }
   ],
   "metadata": {}
  },
  {
   "cell_type": "code",
   "execution_count": 25,
   "source": [
    "print(merge_sort(new_arr()))"
   ],
   "outputs": [
    {
     "output_type": "stream",
     "name": "stdout",
     "text": [
      "[0, 1, 2, 3, 4, 5, 6, 7, 8, 9, 10, 11, 12, 13, 14, 15, 16, 17, 18, 19, 20, 21, 22, 23, 24, 25, 26, 27, 28, 29, 30, 31, 32, 33, 34, 35, 36, 37, 38, 39, 40, 41, 42, 43, 44, 45, 46, 47, 48, 49]\n"
     ]
    }
   ],
   "metadata": {}
  },
  {
   "cell_type": "code",
   "execution_count": 24,
   "source": [
    "print(selection_sort(new_arr()))"
   ],
   "outputs": [
    {
     "output_type": "stream",
     "name": "stdout",
     "text": [
      "[0, 1, 2, 3, 4, 5, 6, 7, 8, 9, 10, 11, 12, 13, 14, 15, 16, 17, 18, 19, 20, 21, 22, 23, 24, 25, 26, 27, 28, 29, 30, 31, 32, 33, 34, 35, 36, 37, 38, 39, 40, 41, 42, 43, 44, 45, 46, 47, 48, 49]\n"
     ]
    }
   ],
   "metadata": {}
  },
  {
   "cell_type": "code",
   "execution_count": 27,
   "source": [
    "print(bubble_sort(new_arr()))"
   ],
   "outputs": [
    {
     "output_type": "stream",
     "name": "stdout",
     "text": [
      "[0, 1, 2, 3, 4, 5, 6, 7, 8, 9, 10, 11, 12, 13, 14, 15, 16, 17, 18, 19, 20, 21, 22, 23, 24, 25, 26, 27, 28, 29, 30, 31, 32, 33, 34, 35, 36, 37, 38, 39, 40, 41, 42, 43, 44, 45, 46, 47, 48, 49]\n"
     ]
    }
   ],
   "metadata": {}
  },
  {
   "cell_type": "code",
   "execution_count": 29,
   "source": [
    "print(insertion_sort(new_arr()))"
   ],
   "outputs": [
    {
     "output_type": "stream",
     "name": "stdout",
     "text": [
      "[0, 1, 2, 3, 4, 5, 6, 7, 8, 9, 10, 11, 12, 13, 14, 15, 16, 17, 18, 19, 20, 21, 22, 23, 24, 25, 26, 27, 28, 29, 30, 31, 32, 33, 34, 35, 36, 37, 38, 39, 40, 41, 42, 43, 44, 45, 46, 47, 48, 49]\n"
     ]
    }
   ],
   "metadata": {}
  },
  {
   "cell_type": "code",
   "execution_count": 31,
   "source": [
    "print(heap_sort(new_arr()))"
   ],
   "outputs": [
    {
     "output_type": "stream",
     "name": "stdout",
     "text": [
      "None\n"
     ]
    }
   ],
   "metadata": {}
  },
  {
   "cell_type": "code",
   "execution_count": 43,
   "source": [
    "arr = new_arr()\n",
    "quick_sort(arr, 0, len(arr) - 1)\n",
    "print(arr)\n"
   ],
   "outputs": [
    {
     "output_type": "stream",
     "name": "stdout",
     "text": [
      "[0, 1, 2, 3, 4, 5, 6, 7, 8, 9, 10, 11, 12, 13, 14, 15, 16, 17, 18, 19, 20, 21, 22, 23, 24, 25, 26, 27, 28, 29, 30, 31, 32, 33, 34, 35, 36, 37, 38, 39, 40, 41, 42, 43, 44, 45, 46, 47, 48, 49]\n"
     ]
    }
   ],
   "metadata": {}
  },
  {
   "cell_type": "code",
   "execution_count": null,
   "source": [],
   "outputs": [],
   "metadata": {
    "collapsed": true,
    "jupyter": {
     "outputs_hidden": true
    }
   }
  }
 ],
 "metadata": {
  "kernelspec": {
   "display_name": "Python 3",
   "language": "python",
   "name": "python3"
  },
  "language_info": {
   "codemirror_mode": {
    "name": "ipython",
    "version": 3
   },
   "file_extension": ".py",
   "mimetype": "text/x-python",
   "name": "python",
   "nbconvert_exporter": "python",
   "pygments_lexer": "ipython3",
   "version": "3.7.7"
  },
  "toc-autonumbering": true,
  "toc-showcode": false,
  "toc-showmarkdowntxt": true,
  "toc-showtags": false
 },
 "nbformat": 4,
 "nbformat_minor": 4
}