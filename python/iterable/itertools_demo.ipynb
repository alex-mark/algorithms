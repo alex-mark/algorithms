{
 "cells": [
  {
   "cell_type": "code",
   "execution_count": 21,
   "source": [
    "import itertools\n",
    "import operator"
   ],
   "outputs": [],
   "metadata": {}
  },
  {
   "cell_type": "code",
   "execution_count": 4,
   "source": [
    "# Counter\n",
    "\n",
    "counter = itertools.count(start=5, step=5)\n",
    "\n",
    "print(next(counter))\n",
    "print(next(counter))\n",
    "\n",
    "data = [100, 200, 300, 400]\n",
    "\n",
    "daily_data = list(zip(itertools.count(), data))\n",
    "print(daily_data)\n",
    "\n",
    "# zip_logest zips until longest iterator exhasted,\n",
    "# adds none for missing values\n",
    "daily_data = list(itertools.zip_longest(range(10), data))\n",
    "print(daily_data)\n",
    "\n",
    "\n",
    "counter = itertools.cycle([1, 2, 3])\n",
    "# counter = itertools.repeat(2, times=3)\n",
    "\n",
    "print(next(counter))\n",
    "print(next(counter))\n",
    "print(next(counter))\n",
    "print(next(counter))\n",
    "print(next(counter))\n",
    "\n",
    "\n",
    "squares = map(pow, range(10), itertools.repeat(2))\n",
    "print(list(squares))\n",
    "\n",
    "\n",
    "squares = itertools.starmap(pow, [(0, 2), (1, 2), (2, 2)])\n",
    "print(list(squares))\n"
   ],
   "outputs": [
    {
     "output_type": "stream",
     "name": "stdout",
     "text": [
      "5\n",
      "10\n",
      "[(0, 100), (1, 200), (2, 300), (3, 400)]\n",
      "[(0, 100), (1, 200), (2, 300), (3, 400), (4, None), (5, None), (6, None), (7, None), (8, None), (9, None)]\n",
      "1\n",
      "2\n",
      "3\n",
      "1\n",
      "2\n",
      "[0, 1, 4, 9, 16, 25, 36, 49, 64, 81]\n",
      "[0, 1, 4]\n"
     ]
    }
   ],
   "metadata": {}
  },
  {
   "cell_type": "code",
   "execution_count": 3,
   "source": [
    "# Combinations & Permutations\n",
    "\n",
    "letters = [\"a\", \"b\", \"c\", \"d\"]\n",
    "numbers = [0, 1, 2, 3]\n",
    "names = [\"Alex\", \"Victoria\"]\n",
    "\n",
    "result = itertools.combinations(letters, 2)\n",
    "print(\"Combinations:\", list(result))\n",
    "\n",
    "result = itertools.permutations(letters, 2)\n",
    "print(\"Permutations\", list(result))\n",
    "\n",
    "result = itertools.product(numbers, repeat=3)\n",
    "print(\"Product\", list(result))\n",
    "\n",
    "result = itertools.combinations_with_replacement(numbers, 3)\n",
    "print(\"Product\", list(result))\n"
   ],
   "outputs": [
    {
     "output_type": "stream",
     "name": "stdout",
     "text": [
      "Combinations: [('a', 'b'), ('a', 'c'), ('a', 'd'), ('b', 'c'), ('b', 'd'), ('c', 'd')]\n",
      "Permutations [('a', 'b'), ('a', 'c'), ('a', 'd'), ('b', 'a'), ('b', 'c'), ('b', 'd'), ('c', 'a'), ('c', 'b'), ('c', 'd'), ('d', 'a'), ('d', 'b'), ('d', 'c')]\n",
      "Product [(0, 0, 0), (0, 0, 1), (0, 0, 2), (0, 0, 3), (0, 1, 0), (0, 1, 1), (0, 1, 2), (0, 1, 3), (0, 2, 0), (0, 2, 1), (0, 2, 2), (0, 2, 3), (0, 3, 0), (0, 3, 1), (0, 3, 2), (0, 3, 3), (1, 0, 0), (1, 0, 1), (1, 0, 2), (1, 0, 3), (1, 1, 0), (1, 1, 1), (1, 1, 2), (1, 1, 3), (1, 2, 0), (1, 2, 1), (1, 2, 2), (1, 2, 3), (1, 3, 0), (1, 3, 1), (1, 3, 2), (1, 3, 3), (2, 0, 0), (2, 0, 1), (2, 0, 2), (2, 0, 3), (2, 1, 0), (2, 1, 1), (2, 1, 2), (2, 1, 3), (2, 2, 0), (2, 2, 1), (2, 2, 2), (2, 2, 3), (2, 3, 0), (2, 3, 1), (2, 3, 2), (2, 3, 3), (3, 0, 0), (3, 0, 1), (3, 0, 2), (3, 0, 3), (3, 1, 0), (3, 1, 1), (3, 1, 2), (3, 1, 3), (3, 2, 0), (3, 2, 1), (3, 2, 2), (3, 2, 3), (3, 3, 0), (3, 3, 1), (3, 3, 2), (3, 3, 3)]\n",
      "Product [(0, 0, 0), (0, 0, 1), (0, 0, 2), (0, 0, 3), (0, 1, 1), (0, 1, 2), (0, 1, 3), (0, 2, 2), (0, 2, 3), (0, 3, 3), (1, 1, 1), (1, 1, 2), (1, 1, 3), (1, 2, 2), (1, 2, 3), (1, 3, 3), (2, 2, 2), (2, 2, 3), (2, 3, 3), (3, 3, 3)]\n"
     ]
    }
   ],
   "metadata": {}
  },
  {
   "cell_type": "code",
   "execution_count": 11,
   "source": [
    "combined = itertools.chain(letters, numbers, names)\n",
    "\n",
    "for item in combined:\n",
    "    print(item)\n",
    "\n",
    "# slicing iterators (useful when you don't want convert it to list)\n",
    "# can be used to slice file iterator\n",
    "result = itertools.islice(range(10), 1, 5)\n",
    "print(tuple(result))"
   ],
   "outputs": [
    {
     "output_type": "stream",
     "name": "stdout",
     "text": [
      "a\n",
      "b\n",
      "c\n",
      "d\n",
      "0\n",
      "1\n",
      "2\n",
      "3\n",
      "Alex\n",
      "Victoria\n",
      "(1, 2, 3, 4)\n"
     ]
    }
   ],
   "metadata": {}
  },
  {
   "cell_type": "code",
   "execution_count": 12,
   "source": [
    "selectors = [True, True, False, True]\n",
    "\n",
    "result = itertools.compress(letters, selectors)\n",
    "print(list(result))"
   ],
   "outputs": [
    {
     "output_type": "stream",
     "name": "stdout",
     "text": [
      "['a', 'b', 'd']\n"
     ]
    }
   ],
   "metadata": {}
  },
  {
   "cell_type": "code",
   "execution_count": 18,
   "source": [
    "numbers = [0, 1, 2, 3, 2, 1, 0]\n",
    "result = itertools.dropwhile(lambda x: x < 2, numbers)\n",
    "# result = itertools.takewhile(lambda x: x < 2, numbers)\n",
    "# result = itertools.filterfalse(lambda x: x < 2, numbers)\n",
    "print(list(result))"
   ],
   "outputs": [
    {
     "output_type": "stream",
     "name": "stdout",
     "text": [
      "[2, 3, 2, 1, 0]\n"
     ]
    }
   ],
   "metadata": {}
  },
  {
   "cell_type": "code",
   "execution_count": 23,
   "source": [
    "numbers = [1, 2, 3, 2, 1]\n",
    "\n",
    "result = itertools.accumulate(numbers)\n",
    "print(list(result))\n",
    "\n",
    "result = itertools.accumulate(numbers, operator.mul)\n",
    "print(list(result))"
   ],
   "outputs": [
    {
     "output_type": "stream",
     "name": "stdout",
     "text": [
      "[1, 3, 6, 8, 9]\n",
      "[1, 2, 6, 12, 12]\n"
     ]
    }
   ],
   "metadata": {}
  },
  {
   "cell_type": "code",
   "execution_count": null,
   "source": [
    "# getting independent iterators\n",
    "# copy1, copy2 = itertools.tee(some_iterator)"
   ],
   "outputs": [],
   "metadata": {}
  }
 ],
 "metadata": {
  "orig_nbformat": 4,
  "language_info": {
   "name": "python",
   "version": "3.9.6",
   "mimetype": "text/x-python",
   "codemirror_mode": {
    "name": "ipython",
    "version": 3
   },
   "pygments_lexer": "ipython3",
   "nbconvert_exporter": "python",
   "file_extension": ".py"
  },
  "kernelspec": {
   "name": "python3",
   "display_name": "Python 3.9.6 64-bit"
  },
  "interpreter": {
   "hash": "aee8b7b246df8f9039afb4144a1f6fd8d2ca17a180786b69acc140d282b71a49"
  }
 },
 "nbformat": 4,
 "nbformat_minor": 2
}