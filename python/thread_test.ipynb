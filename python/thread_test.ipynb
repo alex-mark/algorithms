{
 "cells": [
  {
   "cell_type": "code",
   "execution_count": 1,
   "source": [
    "import threading\n",
    "import concurrent.futures\n",
    "import time"
   ],
   "outputs": [],
   "metadata": {}
  },
  {
   "cell_type": "code",
   "execution_count": 2,
   "source": [
    "def do_something(seconds):\n",
    "    print(f'sleeping {seconds} second...')\n",
    "    time.sleep(seconds)\n",
    "    return f'done sleeping...{seconds}'"
   ],
   "outputs": [],
   "metadata": {}
  },
  {
   "cell_type": "code",
   "execution_count": 3,
   "source": [
    "threads = []\n",
    "\n",
    "start = time.perf_counter()\n",
    "for _ in range(10):\n",
    "    t = threading.Thread(target=do_something, args=[1.5])\n",
    "    t.start()\n",
    "    threads.append(t)\n",
    "\n",
    "for thread in threads:\n",
    "    thread.join()\n",
    "\n",
    "finish = time.perf_counter()\n",
    "print(f\"Finished in {round(finish - start, 2)} seconds\")"
   ],
   "outputs": [
    {
     "output_type": "stream",
     "name": "stdout",
     "text": [
      "sleeping 1.5 second...\n",
      "sleeping 1.5 second...\n",
      "sleeping 1.5 second...\n",
      "sleeping 1.5 second...\n",
      "sleeping 1.5 second...\n",
      "sleeping 1.5 second...\n",
      "sleeping 1.5 second...\n",
      "sleeping 1.5 second...\n",
      "sleeping 1.5 second...sleeping 1.5 second...\n",
      "\n",
      "Finished in 1.56 seconds\n"
     ]
    }
   ],
   "metadata": {}
  },
  {
   "cell_type": "code",
   "execution_count": 4,
   "source": [
    "with concurrent.futures.ThreadPoolExecutor() as executor:\n",
    "    secs = [1, 4, 3, 2, 5]\n",
    "    results = executor.map(do_something, secs)\n",
    "\n",
    "    for res in results:\n",
    "        print(res)\n"
   ],
   "outputs": [
    {
     "output_type": "stream",
     "name": "stdout",
     "text": [
      "sleeping 1 second...sleeping 4 second...\n",
      "sleeping 3 second...\n",
      "\n",
      "sleeping 2 second...\n",
      "sleeping 5 second...\n",
      "done sleeping...1\n",
      "done sleeping...4\n",
      "done sleeping...3\n",
      "done sleeping...2\n",
      "done sleeping...5\n"
     ]
    }
   ],
   "metadata": {}
  },
  {
   "cell_type": "code",
   "execution_count": 5,
   "source": [
    "t1 = threading.Thread(target=do_something, args=[1])\n",
    "t2 = threading.Thread(target=do_something, args=[1])\n",
    "\n",
    "t1.start()\n",
    "t2.start()\n",
    "\n",
    "t1.join()\n",
    "t2.join()"
   ],
   "outputs": [
    {
     "output_type": "stream",
     "name": "stdout",
     "text": [
      "sleeping 1 second...\n",
      "sleeping 1 second...\n"
     ]
    }
   ],
   "metadata": {}
  },
  {
   "cell_type": "code",
   "execution_count": null,
   "source": [],
   "outputs": [],
   "metadata": {}
  }
 ],
 "metadata": {
  "kernelspec": {
   "name": "python3",
   "display_name": "Python 3.9.6 64-bit ('python@3.9')"
  },
  "language_info": {
   "codemirror_mode": {
    "name": "ipython",
    "version": 3
   },
   "file_extension": ".py",
   "mimetype": "text/x-python",
   "name": "python",
   "nbconvert_exporter": "python",
   "pygments_lexer": "ipython3",
   "version": "3.9.6"
  },
  "interpreter": {
   "hash": "ac2eaa0ea0ebeafcc7822e65e46aa9d4f966f30b695406963e145ea4a91cd4fc"
  }
 },
 "nbformat": 4,
 "nbformat_minor": 5
}